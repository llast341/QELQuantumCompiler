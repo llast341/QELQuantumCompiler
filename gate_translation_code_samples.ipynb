{
 "cells": [
  {
   "cell_type": "markdown",
   "metadata": {},
   "source": [
    "Find a common subpath"
   ]
  },
  {
   "cell_type": "code",
   "execution_count": null,
   "metadata": {},
   "outputs": [],
   "source": [
    "\n",
    "common_subpaths = find_common_subpaths(paths)\n",
    "for subpath, count in common_subpaths.items():\n",
    "    print(f\"Subpath {subpath} found in {count} pairs of paths.\")\n",
    "\n"
   ]
  }
 ],
 "metadata": {
  "language_info": {
   "name": "python"
  }
 },
 "nbformat": 4,
 "nbformat_minor": 2
}
