{
 "cells": [
  {
   "cell_type": "markdown",
   "metadata": {},
   "source": []
  },
  {
   "cell_type": "code",
   "execution_count": 26,
   "metadata": {},
   "outputs": [],
   "source": [
    "import numpy as np\n",
    "up = np.array([1., 0.])\n",
    "down = np.array([0., 1.])\n",
    "state = np.kron(up, up)\n",
    "\n",
    "CX = np.array([[1., 0., 0., 0.,], [0., 1., 0., 0.], [0., 0., 0., 1.], [0., 0., 1., 0.]])\n",
    "I = np.eye(2)\n",
    "X = np.array([[0., 1.], [1., 0.]])\n",
    "H = 1/np.sqrt(2)*np.array([[1, 1], [1, -1]])"
   ]
  },
  {
   "cell_type": "code",
   "execution_count": null,
   "metadata": {},
   "outputs": [],
   "source": [
    "number_of_qubits = 2 # find better way of reading this from the state or circuit\n",
    "circ = QuantumCircuit(number_of_qubits)\n",
    "circ.x([0])\n",
    "circ.cx(0, 1)\n",
    "circ.x([1])\n",
    "\n",
    "print(circ.draw())\n",
    "\n",
    "ops = []\n",
    "\n",
    "def apply_circuit(state, circuit):\n",
    "    ops = []\n",
    "    for index, instruction in enumerate(circ):\n",
    "        # index is the gate number in the total number of gates. \n",
    "        # instruction consists of something like (operation, qubit) with operation as (name='x', num_qubits=1, num_clbits=0, params=[])\n",
    "        \n",
    "        # Operator converts this operation into a matrix. \n",
    "        gate = Operator(instruction.operation) \n",
    "        if instruction.operation.name == 'cx':\n",
    "            gate = CX # since they go from MSB to LSB, their cx is unusual. maybe there's a more elegant solution though.\n",
    "        ops.append(instruction.operation.name)\n",
    "\n",
    "        # get the index of the qubits applied\n",
    "        qubit_indices = []\n",
    "        num_qubits = instruction.operation._num_qubits\n",
    "        n = 0\n",
    "\n",
    "        # save index numbers in array\n",
    "        while n < num_qubits:\n",
    "            index = instruction.qubits[n]._index\n",
    "            qubit_indices.append(index)\n",
    "            # assume adjacent CNOTs for now; eventually add the exception for non-adjacent CNOTs\n",
    "            n = n + 1\n",
    "        final_matrix = kron_products(gate, qubit_indices, number_of_qubits)\n",
    "        state = np.dot(final_matrix, state)\n",
    "        print(state)\n",
    "        print(\"mat = \", final_matrix)\n",
    "    print(ops)\n",
    "    return state"
   ]
  },
  {
   "cell_type": "code",
   "execution_count": null,
   "metadata": {},
   "outputs": [],
   "source": [
    "import numpy as np\n",
    "def kron_products(gate, indices, number_of_qubits):\n",
    "    # this assumes we are given some fixed gate, with an array of indices this gate is applied to. \n",
    "    # For now, assume 2-qubit gates that are adjacent and increasing in order (that is, CNOT(2, 3), not CNOT(3, 2)). I assume that if this isn't the case, we will add SWAP gates to make this happen. \n",
    "\n",
    "    I = np.eye(2)\n",
    "\n",
    "    start_index = 1\n",
    "    if indices[0] == 0:\n",
    "        op = gate\n",
    "        if len(indices) == 2: # for two-qubit gates, start one later\n",
    "            start_index = 2\n",
    "    else:\n",
    "        op = I\n",
    "\n",
    "    marker = 0 # used to skip following loops for two-qubit gates \n",
    "    for n in range(start_index, number_of_qubits):\n",
    "        if marker == 1:\n",
    "            marker = 0\n",
    "            continue\n",
    "        if n in indices:\n",
    "            op = np.kron(op, gate)\n",
    "            if len(indices) == 2:\n",
    "                marker = 1\n",
    "        else:\n",
    "            op = np.kron(op, I)\n",
    "        \n",
    "    return op"
   ]
  },
  {
   "cell_type": "markdown",
   "metadata": {},
   "source": [
    "Tensorize things"
   ]
  },
  {
   "cell_type": "code",
   "execution_count": 45,
   "metadata": {},
   "outputs": [
    {
     "name": "stdout",
     "output_type": "stream",
     "text": [
      "[[1. 0.]\n",
      " [0. 0.]\n",
      " [0. 0.]\n",
      " [0. 0.]\n",
      " [0. 0.]\n",
      " [0. 0.]\n",
      " [0. 0.]\n",
      " [0. 0.]]\n",
      "[[0. 1.]\n",
      " [0. 0.]\n",
      " [0. 0.]\n",
      " [0. 0.]\n",
      " [0. 0.]\n",
      " [0. 0.]\n",
      " [0. 0.]\n",
      " [0. 0.]]\n"
     ]
    }
   ],
   "source": [
    "import numpy as np\n",
    "# take a state that is 2^N and divide into N sites\n",
    "\n",
    "state = np.kron(np.kron(up, up), np.kron(up, up))\n",
    "s = np.size(state)\n",
    "if (s % 2 != 0):\n",
    "    print(0)\n",
    "N = int(s / 2)\n",
    "state = np.reshape(state, (N, 2))\n",
    "print(state)\n",
    "print(np.tensordot(state, X, axes=([1], [0])))"
   ]
  },
  {
   "cell_type": "code",
   "execution_count": 33,
   "metadata": {},
   "outputs": [
    {
     "data": {
      "text/plain": [
       "(5, 5, 5, 5)"
      ]
     },
     "execution_count": 33,
     "metadata": {},
     "output_type": "execute_result"
    }
   ],
   "source": [
    "import numpy as np\n",
    "\n",
    "# Example tensor A with shape (5, 5, 5, 5)\n",
    "A = np.random.rand(5, 5, 5, 5)\n",
    "\n",
    "# Example matrix M with shape (5, 5)\n",
    "M = np.random.rand(5, 5)\n",
    "\n",
    "# Perform the multiplication using tensordot\n",
    "# A's third index (index 2) interacts with the first index of M (index 0)\n",
    "result = np.tensordot(A, M, axes=([2], [0]))\n",
    "\n",
    "np.shape(result)\n",
    "# result will have the shape of the remaining dimensions of A and the second dimension of M\n",
    "# resulting shape (5, 5, 5, 5)\n",
    "\n"
   ]
  }
 ],
 "metadata": {
  "kernelspec": {
   "display_name": "QEL",
   "language": "python",
   "name": "python3"
  },
  "language_info": {
   "codemirror_mode": {
    "name": "ipython",
    "version": 3
   },
   "file_extension": ".py",
   "mimetype": "text/x-python",
   "name": "python",
   "nbconvert_exporter": "python",
   "pygments_lexer": "ipython3",
   "version": "3.12.3"
  }
 },
 "nbformat": 4,
 "nbformat_minor": 2
}
